{
 "cells": [
  {
   "cell_type": "code",
   "execution_count": 1,
   "metadata": {},
   "outputs": [
    {
     "data": {
      "text/plain": [
       "'Create a program that asks the user for a number and then prints out a list of all the divisors of that number. \\n(If you don’t know what a divisor is, it is a number that divides evenly into another number. \\nFor example, 13 is a divisor of 26 because 26 / 13 has no remainder.)\\n'"
      ]
     },
     "execution_count": 1,
     "metadata": {},
     "output_type": "execute_result"
    }
   ],
   "source": [
    "'''Create a program that asks the user for a number and then prints out a list of all the divisors of that number. \n",
    "(If you don’t know what a divisor is, it is a number that divides evenly into another number. \n",
    "For example, 13 is a divisor of 26 because 26 / 13 has no remainder.)\n",
    "'''"
   ]
  },
  {
   "cell_type": "code",
   "execution_count": 38,
   "metadata": {},
   "outputs": [
    {
     "name": "stdout",
     "output_type": "stream",
     "text": [
      "Please enter a number 27\n"
     ]
    }
   ],
   "source": [
    "number = int(input(\"Please enter a number \"))"
   ]
  },
  {
   "cell_type": "code",
   "execution_count": 39,
   "metadata": {},
   "outputs": [],
   "source": [
    "divisors = []\n",
    "\n",
    "num1 = list(range(1,int(number/2)+1))\n",
    "\n",
    "for i in num1:\n",
    "    if number % i ==0:\n",
    "        print(i)\n",
    "        divisors.append(i)\n",
    "divisors.append(number)\n"
   ]
  },
  {
   "cell_type": "code",
   "execution_count": 41,
   "metadata": {},
   "outputs": [
    {
     "name": "stdout",
     "output_type": "stream",
     "text": [
      "The divisors for the given number 27 are [1, 3, 9]\n"
     ]
    }
   ],
   "source": [
    "print( f'The divisors for the given number {number} are {divisors}')"
   ]
  }
 ],
 "metadata": {
  "kernelspec": {
   "display_name": "Python 3",
   "language": "python",
   "name": "python3"
  },
  "language_info": {
   "codemirror_mode": {
    "name": "ipython",
    "version": 3
   },
   "file_extension": ".py",
   "mimetype": "text/x-python",
   "name": "python",
   "nbconvert_exporter": "python",
   "pygments_lexer": "ipython3",
   "version": "3.8.5"
  }
 },
 "nbformat": 4,
 "nbformat_minor": 4
}
