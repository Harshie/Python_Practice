{
 "cells": [
  {
   "cell_type": "code",
   "execution_count": null,
   "metadata": {},
   "outputs": [],
   "source": [
    "# Install a pip package in the current Jupyter kernel\n",
    "!pip install PySimpleGUI"
   ]
  },
  {
   "cell_type": "code",
   "execution_count": 18,
   "metadata": {},
   "outputs": [],
   "source": [
    "import PySimpleGUI as sg\n",
    "import numpy as np\n",
    "\n",
    "# Update function\n",
    "def update():\n",
    "    r = np.random.randint(1,100)\n",
    "    text_elem = window['-text-']\n",
    "    text_elem.update(\"The generated random integer between 1 and 100 is: {}\".format(r))\n",
    "\n",
    "# GUI Theme\n",
    "sg.theme('GreenMono') \n",
    "\n",
    "# Define the window's contents i.e. layout\n",
    "layout = [[sg.Button('Generate',enable_events=True, key='-FUNCTION-', size = (9, 2), font = (\"Helvetica\", 15))],\n",
    "          [sg.T(\"\")],\n",
    "          [sg.Text('The generated random integer between 1 and 100 is: ', size=(50, 1), key='-text-',font = (\"Helvetica\", 15))],\n",
    "          [sg.T(\"\")],\n",
    "          [sg.Button('Exit', size = (7, 2), font = (\"Helvetica\", 15))]]\n",
    "\n",
    "# Create the window\n",
    "window = sg.Window('Generate random integer', layout, size=(600,300))\n",
    "\n",
    "# Event loop\n",
    "while True:\n",
    "    event, values = window.read()\n",
    "    if event in (sg.WIN_CLOSED, 'Exit'):\n",
    "        break\n",
    "    if event == '-FUNCTION-':\n",
    "        update()\n",
    "\n",
    "# Close the window i.e. release resource\n",
    "window.close()"
   ]
  },
  {
   "cell_type": "code",
   "execution_count": null,
   "metadata": {},
   "outputs": [],
   "source": []
  },
  {
   "cell_type": "code",
   "execution_count": null,
   "metadata": {},
   "outputs": [],
   "source": []
  }
 ],
 "metadata": {
  "kernelspec": {
   "display_name": "Python 3",
   "language": "python",
   "name": "python3"
  },
  "language_info": {
   "codemirror_mode": {
    "name": "ipython",
    "version": 3
   },
   "file_extension": ".py",
   "mimetype": "text/x-python",
   "name": "python",
   "nbconvert_exporter": "python",
   "pygments_lexer": "ipython3",
   "version": "3.8.5"
  }
 },
 "nbformat": 4,
 "nbformat_minor": 4
}
