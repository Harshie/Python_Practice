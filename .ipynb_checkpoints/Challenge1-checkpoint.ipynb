{
 "cells": [
  {
   "cell_type": "code",
   "execution_count": 1,
   "metadata": {},
   "outputs": [],
   "source": [
    "'''\n",
    "#Challenge 1 : https://www.practicepython.org/exercise/2014/01/29/01-character-input.html\n",
    "Create a program that asks the user to enter their name and their age. \n",
    "Print out a message addressed to them that tells them the year that they will turn 100 years old.\n",
    "\n",
    "Extras:\n",
    "Add on to the previous program by asking the user for another number and \n",
    "printing out that many copies of the previous message. (Hint: order of operations exists in Python)\n",
    "\n",
    "Print out that many copies of the previous message on separate lines. \n",
    "(Hint: the string \"\\n is the same as pressing the ENTER button) \n",
    "'''"
   ]
  },
  {
   "cell_type": "code",
   "execution_count": 7,
   "metadata": {},
   "outputs": [
    {
     "name": "stdout",
     "output_type": "stream",
     "text": [
      "Please enter your nameHarshad\n",
      "Please enter your age26\n"
     ]
    }
   ],
   "source": [
    "name = input('Please enter your name')\n",
    "age = int(input('Please enter your age'))"
   ]
  },
  {
   "cell_type": "code",
   "execution_count": 9,
   "metadata": {},
   "outputs": [],
   "source": [
    "remaining_yrs = 100 - age"
   ]
  },
  {
   "cell_type": "code",
   "execution_count": 15,
   "metadata": {},
   "outputs": [],
   "source": [
    "# importing the date class datetime module\n",
    "from datetime import date"
   ]
  },
  {
   "cell_type": "code",
   "execution_count": 17,
   "metadata": {},
   "outputs": [
    {
     "name": "stdout",
     "output_type": "stream",
     "text": [
      "Hey Harshad, your age will be 100 in the year 2095\n"
     ]
    }
   ],
   "source": [
    "# creating the date object of today's date\n",
    "current_date = date.today()\n",
    "\n",
    "currentYr = current_date.year\n",
    "print(f'Hey {name}, your age will be 100 in the year {currentYr + remaining_yrs}')\n"
   ]
  },
  {
   "cell_type": "code",
   "execution_count": 19,
   "metadata": {},
   "outputs": [
    {
     "name": "stdout",
     "output_type": "stream",
     "text": [
      "Please enter the count of times, the message has to be printed 10\n"
     ]
    }
   ],
   "source": [
    "copies = int(input(\"Please enter the count of times, the message has to be printed \"))"
   ]
  },
  {
   "cell_type": "code",
   "execution_count": 23,
   "metadata": {},
   "outputs": [
    {
     "name": "stdout",
     "output_type": "stream",
     "text": [
      "Hey Harshad, your age will be 100 in the year 2095\n",
      "Hey Harshad, your age will be 100 in the year 2095\n",
      "Hey Harshad, your age will be 100 in the year 2095\n",
      "Hey Harshad, your age will be 100 in the year 2095\n",
      "Hey Harshad, your age will be 100 in the year 2095\n",
      "Hey Harshad, your age will be 100 in the year 2095\n",
      "Hey Harshad, your age will be 100 in the year 2095\n",
      "Hey Harshad, your age will be 100 in the year 2095\n",
      "Hey Harshad, your age will be 100 in the year 2095\n",
      "Hey Harshad, your age will be 100 in the year 2095\n"
     ]
    }
   ],
   "source": [
    "for i in range(copies):\n",
    "    print(f'Hey {name}, your age will be 100 in the year {currentYr + remaining_yrs}')"
   ]
  },
  {
   "cell_type": "code",
   "execution_count": null,
   "metadata": {},
   "outputs": [],
   "source": []
  }
 ],
 "metadata": {
  "kernelspec": {
   "display_name": "Python 3",
   "language": "python",
   "name": "python3"
  },
  "language_info": {
   "codemirror_mode": {
    "name": "ipython",
    "version": 3
   },
   "file_extension": ".py",
   "mimetype": "text/x-python",
   "name": "python",
   "nbconvert_exporter": "python",
   "pygments_lexer": "ipython3",
   "version": "3.8.5"
  }
 },
 "nbformat": 4,
 "nbformat_minor": 4
}
