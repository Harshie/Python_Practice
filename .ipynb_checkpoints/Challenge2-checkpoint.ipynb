{
 "cells": [
  {
   "cell_type": "code",
   "execution_count": 1,
   "metadata": {},
   "outputs": [
    {
     "data": {
      "text/plain": [
       "'\\nAsk the user for a number. Depending on whether the number is even or odd, print out an appropriate message to the user. \\nHint: how does an even / odd number react differently when divided by 2?\\n\\nExtras:\\n\\nIf the number is a multiple of 4, print out a different message.\\nAsk the user for two numbers: one number to check (call it num) and one number to divide by (check). \\nIf check divides evenly into num, tell that to the user. If not, print a different appropriate message.\\n'"
      ]
     },
     "execution_count": 1,
     "metadata": {},
     "output_type": "execute_result"
    }
   ],
   "source": [
    "'''\n",
    "Ask the user for a number. Depending on whether the number is even or odd, print out an appropriate message to the user. \n",
    "Hint: how does an even / odd number react differently when divided by 2?\n",
    "\n",
    "Extras:\n",
    "\n",
    "If the number is a multiple of 4, print out a different message.\n",
    "Ask the user for two numbers: one number to check (call it num) and one number to divide by (check). \n",
    "If check divides evenly into num, tell that to the user. If not, print a different appropriate message.\n",
    "'''"
   ]
  },
  {
   "cell_type": "code",
   "execution_count": 5,
   "metadata": {},
   "outputs": [],
   "source": [
    "def oddEven(number):\n",
    "    if number % 2 == 0:\n",
    "        if number % 4 ==0:\n",
    "            print('The number is even and multiple of 4')\n",
    "        else:\n",
    "            print('The number is even')\n",
    "    else:\n",
    "        print('The number is odd')       "
   ]
  },
  {
   "cell_type": "code",
   "execution_count": 12,
   "metadata": {},
   "outputs": [
    {
     "name": "stdout",
     "output_type": "stream",
     "text": [
      "The number is even\n",
      "The number is odd\n",
      "The number is even and multiple of 4\n",
      "The number is even and multiple of 4\n",
      "The number is odd\n",
      "The number is odd\n"
     ]
    }
   ],
   "source": [
    "oddEven(2)\n",
    "oddEven(1)\n",
    "oddEven(4)\n",
    "oddEven(16)\n",
    "oddEven(3)\n",
    "oddEven(12.5)"
   ]
  },
  {
   "cell_type": "code",
   "execution_count": 23,
   "metadata": {},
   "outputs": [
    {
     "name": "stdout",
     "output_type": "stream",
     "text": [
      "5\n",
      "4\n"
     ]
    }
   ],
   "source": [
    "#num to check and check to divide by\n",
    "num,check = int(input()),int(input())"
   ]
  },
  {
   "cell_type": "code",
   "execution_count": 24,
   "metadata": {},
   "outputs": [
    {
     "name": "stdout",
     "output_type": "stream",
     "text": [
      "check divides unevenly\n"
     ]
    }
   ],
   "source": [
    "if num % check ==0:\n",
    "    print('check evenly divides num')\n",
    "else:\n",
    "    print('check divides unevenly')"
   ]
  }
 ],
 "metadata": {
  "kernelspec": {
   "display_name": "Python 3",
   "language": "python",
   "name": "python3"
  },
  "language_info": {
   "codemirror_mode": {
    "name": "ipython",
    "version": 3
   },
   "file_extension": ".py",
   "mimetype": "text/x-python",
   "name": "python",
   "nbconvert_exporter": "python",
   "pygments_lexer": "ipython3",
   "version": "3.8.5"
  }
 },
 "nbformat": 4,
 "nbformat_minor": 4
}
