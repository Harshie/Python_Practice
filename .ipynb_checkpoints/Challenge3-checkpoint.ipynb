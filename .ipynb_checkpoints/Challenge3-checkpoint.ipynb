{
 "cells": [
  {
   "cell_type": "code",
   "execution_count": 1,
   "metadata": {},
   "outputs": [
    {
     "data": {
      "text/plain": [
       "'\\nTake a list, say for example this one:\\n\\n  a = [1, 1, 2, 3, 5, 8, 13, 21, 34, 55, 89]\\nand write a program that prints out all the elements of the list that are less than 5.\\n\\nExtras:\\n\\nInstead of printing the elements one by one, make a new list that has all the elements less than 5 from this list in it \\nand print out this new list.\\n\\nWrite this in one line of Python.\\n\\nAsk the user for a number and return a list that contains only elements from the original list a \\nthat are smaller than that number given by the user.\\n'"
      ]
     },
     "execution_count": 1,
     "metadata": {},
     "output_type": "execute_result"
    }
   ],
   "source": [
    "'''\n",
    "Take a list, say for example this one:\n",
    "\n",
    "  a = [1, 1, 2, 3, 5, 8, 13, 21, 34, 55, 89]\n",
    "and write a program that prints out all the elements of the list that are less than 5.\n",
    "\n",
    "Extras:\n",
    "\n",
    "Instead of printing the elements one by one, make a new list that has all the elements less than 5 from this list in it \n",
    "and print out this new list.\n",
    "\n",
    "Write this in one line of Python.\n",
    "\n",
    "Ask the user for a number and return a list that contains only elements from the original list a \n",
    "that are smaller than that number given by the user.\n",
    "'''"
   ]
  },
  {
   "cell_type": "code",
   "execution_count": 1,
   "metadata": {},
   "outputs": [],
   "source": [
    "a = [1, 1, 2, 3, 5, 8, 13, 21, 34, 55, 89]"
   ]
  },
  {
   "cell_type": "code",
   "execution_count": 10,
   "metadata": {},
   "outputs": [
    {
     "name": "stdout",
     "output_type": "stream",
     "text": [
      "Enter the constraint list num9\n"
     ]
    }
   ],
   "source": [
    "#b = 5\n",
    "b = int(input('Enter the constraint list num '))"
   ]
  },
  {
   "cell_type": "code",
   "execution_count": 11,
   "metadata": {},
   "outputs": [
    {
     "name": "stdout",
     "output_type": "stream",
     "text": [
      "[1, 1, 2, 3, 5, 8]\n"
     ]
    }
   ],
   "source": [
    "c = []\n",
    "for i in range(len(a)):\n",
    "    if a[i] < b:\n",
    "        c.append(a[i])\n",
    "print(c)"
   ]
  }
 ],
 "metadata": {
  "kernelspec": {
   "display_name": "Python 3",
   "language": "python",
   "name": "python3"
  },
  "language_info": {
   "codemirror_mode": {
    "name": "ipython",
    "version": 3
   },
   "file_extension": ".py",
   "mimetype": "text/x-python",
   "name": "python",
   "nbconvert_exporter": "python",
   "pygments_lexer": "ipython3",
   "version": "3.8.5"
  }
 },
 "nbformat": 4,
 "nbformat_minor": 4
}
