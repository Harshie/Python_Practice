{
 "cells": [
  {
   "cell_type": "code",
   "execution_count": 28,
   "metadata": {},
   "outputs": [],
   "source": [
    "# Random function\n",
    "import random\n",
    "\n",
    "options = [\"rock\",\"paper\",\"scissors\"]"
   ]
  },
  {
   "cell_type": "code",
   "execution_count": 29,
   "metadata": {},
   "outputs": [],
   "source": [
    "def compare(userInput,systemInput):\n",
    "    if userInput == systemInput:\n",
    "        print(\"It's a tie. Please try again\")\n",
    "    elif (userInput == \"paper\" and systemInput == \"rock\") or (userInput == \"rock\" and systemInput == \"scissors\") or (userInput == \"scissors\" and systemInput == \"paper\"):\n",
    "        print(f\"Your move was '{userInput.upper()}'  & computer's move was '{systemInput.upper()}' \\n YOU WON! \")\n",
    "    elif (systemInput == \"paper\" and userInput == \"rock\") or (systemInput == \"rock\" and userInput == \"scissors\") or (systemInput == \"scissors\" and userInput == \"paper\"):\n",
    "        print(f\"Your move was '{userInput.upper()}'  & computer's move was '{systemInput.upper()}'\\n COMPUTER WON! \")\n"
   ]
  },
  {
   "cell_type": "code",
   "execution_count": 32,
   "metadata": {},
   "outputs": [
    {
     "name": "stdout",
     "output_type": "stream",
     "text": [
      "Please select a choice ('Rock','Paper','Scissors'):rock\n",
      "Your move was 'ROCK'  & computer's move was 'SCISSORS' \n",
      " YOU WON! \n",
      "You want to try again(Y/N): y\n",
      "Please select a choice ('Rock','Paper','Scissors'):harshad\n",
      "Please enter a valid option. \n",
      "Please select a choice ('Rock','Paper','Scissors'):nit\n",
      "Please enter a valid option. \n",
      "Please select a choice ('Rock','Paper','Scissors'):rockk\n",
      "Please enter a valid option. \n",
      "Please select a choice ('Rock','Paper','Scissors'):Paper\n",
      "It's a tie. Please try again\n",
      "You want to try again(Y/N): n\n"
     ]
    }
   ],
   "source": [
    "while True :\n",
    "    # User Input\n",
    "    userInput = input(\"Please select a choice ('Rock','Paper','Scissors'):\" ).lower()\n",
    "    while userInput not in options:\n",
    "        print('Please enter a valid option. ')\n",
    "        userInput = input(\"Please select a choice ('Rock','Paper','Scissors'):\" ).lower()\n",
    "        if userInput in options:\n",
    "            break\n",
    "        \n",
    "    # System Input\n",
    "    systemInput = random.choice(options).lower()\n",
    "    compare(userInput,systemInput)\n",
    "    flag1 = input('You want to try again(Y/N): ').lower()\n",
    "    if flag1 == 'y':\n",
    "        continue\n",
    "    else:\n",
    "        break\n",
    "        \n",
    "    "
   ]
  }
 ],
 "metadata": {
  "kernelspec": {
   "display_name": "Python 3",
   "language": "python",
   "name": "python3"
  },
  "language_info": {
   "codemirror_mode": {
    "name": "ipython",
    "version": 3
   },
   "file_extension": ".py",
   "mimetype": "text/x-python",
   "name": "python",
   "nbconvert_exporter": "python",
   "pygments_lexer": "ipython3",
   "version": "3.8.5"
  }
 },
 "nbformat": 4,
 "nbformat_minor": 4
}
