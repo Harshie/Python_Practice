{
 "cells": [
  {
   "cell_type": "code",
   "execution_count": 24,
   "metadata": {},
   "outputs": [
    {
     "name": "stdout",
     "output_type": "stream",
     "text": [
      "Collecting PySimpleGUI\n",
      "  Downloading PySimpleGUI-4.33.0-py3-none-any.whl (242 kB)\n",
      "Installing collected packages: PySimpleGUI\n",
      "Successfully installed PySimpleGUI-4.33.0\n"
     ]
    }
   ],
   "source": [
    "# Install a pip package in the current Jupyter kernel\n",
    "!pip install PySimpleGUI"
   ]
  },
  {
   "cell_type": "code",
   "execution_count": 8,
   "metadata": {},
   "outputs": [
    {
     "name": "stdout",
     "output_type": "stream",
     "text": [
      "Display {'-IN2-': True, '-IN3-': False, '-IN4-': False, '-IN1-': ''}\n"
     ]
    },
    {
     "ename": "NameError",
     "evalue": "name 'userInput' is not defined",
     "output_type": "error",
     "traceback": [
      "\u001b[1;31m---------------------------------------------------------------------------\u001b[0m",
      "\u001b[1;31mNameError\u001b[0m                                 Traceback (most recent call last)",
      "\u001b[1;32m<ipython-input-8-f9a2376a63c5>\u001b[0m in \u001b[0;36m<module>\u001b[1;34m\u001b[0m\n\u001b[0;32m     31\u001b[0m         \u001b[1;31m# Update the \"output\" text element\u001b[0m\u001b[1;33m\u001b[0m\u001b[1;33m\u001b[0m\u001b[1;33m\u001b[0m\u001b[0m\n\u001b[0;32m     32\u001b[0m         \u001b[1;31m# to be the value of \"input\" element\u001b[0m\u001b[1;33m\u001b[0m\u001b[1;33m\u001b[0m\u001b[1;33m\u001b[0m\u001b[0m\n\u001b[1;32m---> 33\u001b[1;33m         \u001b[0mwindow\u001b[0m\u001b[1;33m[\u001b[0m\u001b[1;34m'-OUTPUT-'\u001b[0m\u001b[1;33m]\u001b[0m\u001b[1;33m.\u001b[0m\u001b[0mupdate\u001b[0m\u001b[1;33m(\u001b[0m\u001b[0muserInput\u001b[0m\u001b[1;33m)\u001b[0m\u001b[1;33m\u001b[0m\u001b[1;33m\u001b[0m\u001b[0m\n\u001b[0m\u001b[0;32m     34\u001b[0m \u001b[1;33m\u001b[0m\u001b[0m\n\u001b[0;32m     35\u001b[0m \u001b[0mwindow\u001b[0m\u001b[1;33m.\u001b[0m\u001b[0mclose\u001b[0m\u001b[1;33m(\u001b[0m\u001b[1;33m)\u001b[0m\u001b[1;33m\u001b[0m\u001b[1;33m\u001b[0m\u001b[0m\n",
      "\u001b[1;31mNameError\u001b[0m: name 'userInput' is not defined"
     ]
    }
   ],
   "source": [
    "import PySimpleGUI as sg \n",
    "   \n",
    "      \n",
    "sg.theme('BluePurple') \n",
    "   \n",
    "layout = [[sg.Text('Select a choice')],\n",
    "          #[sg.Button('Rock'), sg.Button('Paper'), sg.Button('Scissor')],\n",
    "          [sg.T(\"         \"), sg.Radio('Rock', \"RADIO1\", default=False, key=\"-IN2-\")],\n",
    "          [sg.T(\"         \"), sg.Radio('Paper', \"RADIO1\", default=False, key=\"-IN3-\")],\n",
    "          [sg.T(\"         \"), sg.Radio('Scissor', \"RADIO1\", default=True, key=\"-IN4-\")],\n",
    "          [sg.Text(size=(15,1), key='-OUTPUT-')], \n",
    "          [sg.Input(key='-IN1-')], \n",
    "          [sg.Button('Display'), sg.Button('Exit')]]\n",
    "  \n",
    "window = sg.Window('Roshambo game', layout) \n",
    "  \n",
    "while True: \n",
    "    event, values = window.read() \n",
    "    print(event, values) \n",
    "      \n",
    "    if event in  (None, 'Exit'): \n",
    "        break\n",
    "    if event == 'Rock':\n",
    "        userInput = 'rock'\n",
    "        print(\"ROCK\")\n",
    "    if event == 'Paper':\n",
    "        userInput = 'Paper'\n",
    "    if event == 'Scissor':\n",
    "        userInput = 'Scissor'\n",
    "    if event == 'Display': \n",
    "        # Update the \"output\" text element \n",
    "        # to be the value of \"input\" element \n",
    "        window['-OUTPUT-'].update(userInput) \n",
    "  \n",
    "window.close() "
   ]
  },
  {
   "cell_type": "code",
   "execution_count": 5,
   "metadata": {},
   "outputs": [
    {
     "name": "stdout",
     "output_type": "stream",
     "text": [
      "Hello World\n"
     ]
    }
   ],
   "source": [
    "import PySimpleGUI as sg\n",
    "layout = [[sg.T(\"\")],[sg.T(\"        \"), sg.Button('Hello World',size=(20,4))], [sg.T(\"\")],\n",
    "          [sg.T(\"         \"), sg.Checkbox('Print On:', default=True, key=\"-IN-\")],\n",
    "          [sg.T(\"         \"), sg.Radio('Permission Granted', \"RADIO1\", default=False, key=\"-IN2-\")],\n",
    "          [sg.T(\"         \"), sg.Radio('Permission not Granted', \"RADIO1\", default=True)]]\n",
    "\n",
    "###Setting Window\n",
    "window = sg.Window('Push my Buttons', layout, size=(300,300))\n",
    "\n",
    "###Showing the Application, also GUI functions can be placed here.\n",
    "\n",
    "while True:\n",
    "    event, values = window.read()\n",
    "    if event == sg.WIN_CLOSED or event==\"Exit\":\n",
    "        break\n",
    "    elif values[\"-IN-\"] == True and values[\"-IN2-\"] == True:\n",
    "        print(\"Hello World\")\n",
    "    \n",
    "window.close()"
   ]
  },
  {
   "cell_type": "code",
   "execution_count": 3,
   "metadata": {},
   "outputs": [
    {
     "name": "stdout",
     "output_type": "stream",
     "text": [
      "Rock {}\n",
      "ROCK\n",
      "Play {}\n",
      "Exit {}\n"
     ]
    }
   ],
   "source": [
    "import PySimpleGUI as sg \n",
    "import random\n",
    "\n",
    "# Game options\n",
    "options = [\"rock\",\"paper\",\"scissors\"]   \n",
    "\n",
    "# Function for comparing the user and cumputer's options.\n",
    "def compare(userInput,systemInput):\n",
    "    if userInput == systemInput:\n",
    "        print(\"It's a tie. Please try again\")\n",
    "    elif (userInput == \"paper\" and systemInput == \"rock\") or (userInput == \"rock\" and systemInput == \"scissors\") or (userInput == \"scissors\" and systemInput == \"paper\"):\n",
    "        print(f\"Your move was '{userInput.upper()}'  & computer's move was '{systemInput.upper()}' \\n YOU WON! \")\n",
    "    elif (systemInput == \"paper\" and userInput == \"rock\") or (systemInput == \"rock\" and userInput == \"scissors\") or (systemInput == \"scissors\" and userInput == \"paper\"):\n",
    "        print(f\"Your move was '{userInput.upper()}'  & computer's move was '{systemInput.upper()}'\\n COMPUTER WON! \")\n",
    "\n",
    "\n",
    "# GUI Theme\n",
    "sg.theme('BluePurple') \n",
    "\n",
    "# GUI Layout\n",
    "layout = [[sg.Text('Please select your choice')],\n",
    "          [sg.Button('Rock'), sg.Button('Paper'), sg.Button('Scissor')],\n",
    "          [sg.Text(size=(15,1), key='-USER_OPTION-')],\n",
    "          [sg.Text(size=(15,1), key='-COMPUTER_OPTION-')],\n",
    "          [sg.Text(size=(15,1), key='-OUTPUT-')],  \n",
    "          [sg.Button('Play'), sg.Button('Exit')]]\n",
    "  \n",
    "window = sg.Window('Roshambo game', layout, size=(350,500)) \n",
    "  \n",
    "while True: \n",
    "    event, values = window.read() \n",
    "    print(event, values) \n",
    "      \n",
    "    if event in  (None, 'Exit'): \n",
    "        break\n",
    "    if event == 'Rock':\n",
    "        userInput = 'rock'\n",
    "        print(\"ROCK\")\n",
    "    if event == 'Paper':\n",
    "        userInput = 'paper'\n",
    "    if event == 'Scissor':\n",
    "        userInput = 'scissor'\n",
    "    \n",
    "    if event == 'Play': \n",
    "        # Update the \"output\" text element \n",
    "        # to be the value of \"input\" element \n",
    "        #window['-OUTPUT-'].update(userInput) \n",
    "        systemInput = random.choice(options).lower()\n",
    "        window['-COMPUTER_OPTION-'].update(\"Computer's move was: {}\".format(systemInput))\n",
    "        #compare(userInput,systemInput)\n",
    "  \n",
    "window.close() "
   ]
  },
  {
   "cell_type": "code",
   "execution_count": 2,
   "metadata": {},
   "outputs": [
    {
     "name": "stdout",
     "output_type": "stream",
     "text": [
      "Display {'-IN-': 'h'}\n",
      "Display {'-IN-': 'h'}\n",
      "Exit {'-IN-': 'h'}\n"
     ]
    }
   ],
   "source": [
    "import PySimpleGUI as sg \n",
    "   \n",
    "      \n",
    "sg.theme('BluePurple') \n",
    "   \n",
    "layout = [[sg.Text('Your typed characters appear here:'), \n",
    "           sg.Text(size=(15,1), key='-OUTPUT-')], \n",
    "          [sg.Input(key='-IN-')], \n",
    "          [sg.Button('Display'), sg.Button('Exit')]] \n",
    "  \n",
    "window = sg.Window('Introduction', layout) \n",
    "  \n",
    "while True: \n",
    "    event, values = window.read() \n",
    "    print(event, values) \n",
    "      \n",
    "    if event in  (None, 'Exit'): \n",
    "        break\n",
    "      \n",
    "    if event == 'Display': \n",
    "        # Update the \"output\" text element \n",
    "        # to be the value of \"input\" element \n",
    "        window['-OUTPUT-'].update(values['-IN-']) \n",
    "  \n",
    "window.close() "
   ]
  },
  {
   "cell_type": "code",
   "execution_count": null,
   "metadata": {},
   "outputs": [],
   "source": []
  }
 ],
 "metadata": {
  "kernelspec": {
   "display_name": "Python 3",
   "language": "python",
   "name": "python3"
  },
  "language_info": {
   "codemirror_mode": {
    "name": "ipython",
    "version": 3
   },
   "file_extension": ".py",
   "mimetype": "text/x-python",
   "name": "python",
   "nbconvert_exporter": "python",
   "pygments_lexer": "ipython3",
   "version": "3.8.5"
  }
 },
 "nbformat": 4,
 "nbformat_minor": 4
}
