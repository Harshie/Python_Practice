{
 "cells": [
  {
   "cell_type": "code",
   "execution_count": 24,
   "metadata": {},
   "outputs": [
    {
     "name": "stdout",
     "output_type": "stream",
     "text": [
      "Collecting PySimpleGUI\n",
      "  Downloading PySimpleGUI-4.33.0-py3-none-any.whl (242 kB)\n",
      "Installing collected packages: PySimpleGUI\n",
      "Successfully installed PySimpleGUI-4.33.0\n"
     ]
    }
   ],
   "source": [
    "# Install a pip package in the current Jupyter kernel\n",
    "!pip install PySimpleGUI"
   ]
  },
  {
   "cell_type": "code",
   "execution_count": 27,
   "metadata": {},
   "outputs": [],
   "source": [
    "import PySimpleGUI as sg\n",
    "import numpy as np\n",
    "\n",
    "# Update function\n",
    "def update():\n",
    "    r = np.random.randint(1,100)\n",
    "    text_elem = window['-text-']\n",
    "    text_elem.update(\"This is a random integer: {}\".format(r))\n",
    "\n",
    "# Define the window's contents i.e. layout\n",
    "layout = [[sg.Button('Generate',enable_events=True, key='-FUNCTION-')],\n",
    "         [sg.Text('This is a random integer:', size=(25, 1), key='-text-')]]\n",
    "\n",
    "# Create the window\n",
    "window = sg.Window('Generate random integer', layout, size=(350,100))\n",
    "\n",
    "# Event loop\n",
    "while True:\n",
    "    event, values = window.read()\n",
    "    if event in (sg.WIN_CLOSED, 'Exit'):\n",
    "        break\n",
    "    if event == '-FUNCTION-':\n",
    "        update()\n",
    "\n",
    "# Close the window i.e. release resource\n",
    "window.close()"
   ]
  },
  {
   "cell_type": "code",
   "execution_count": 7,
   "metadata": {},
   "outputs": [
    {
     "name": "stdout",
     "output_type": "stream",
     "text": [
      "Please select a choice ('Rock','Paper','Scissors'):Rock\n"
     ]
    }
   ],
   "source": [
    "#Rock Paper Scissors\n",
    "userInput = input(\"Please select a choice ('Rock','Paper','Scissors'):\" )"
   ]
  },
  {
   "cell_type": "code",
   "execution_count": 1,
   "metadata": {},
   "outputs": [],
   "source": [
    "# Random function\n",
    "import random\n",
    "\n",
    "options = [\"Rock\",\"Paper\",\"Scissors\"]"
   ]
  },
  {
   "cell_type": "code",
   "execution_count": 2,
   "metadata": {},
   "outputs": [
    {
     "data": {
      "text/plain": [
       "['Rock', 'Paper', 'Scissors']"
      ]
     },
     "execution_count": 2,
     "metadata": {},
     "output_type": "execute_result"
    }
   ],
   "source": [
    "options"
   ]
  },
  {
   "cell_type": "code",
   "execution_count": 16,
   "metadata": {},
   "outputs": [],
   "source": [
    "def compare(userInput,systemInput):\n",
    "    if userInput == systemInput:\n",
    "        print(\"It's a tie. Please try again\")\n",
    "    elif (userInput == \"paper\" and systemInput == \"rock\") or (userInput == \"rock\" and systemInput == \"scissors\") or (userInput == \"scissors\" and systemInput == \"paper\"):\n",
    "        print(f\"Your move was '{userInput.upper()}'  & computer's move was '{systemInput.upper()}' \\n YOU WON! \")\n",
    "    elif (systemInput == \"paper\" and userInput == \"rock\") or (systemInput == \"rock\" and userInput == \"scissors\") or (systemInput == \"scissors\" and userInput == \"paper\"):\n",
    "        print(f\"Your move was '{userInput.upper()}'  & computer's move was '{systemInput.upper()}'\\n COMPUTER WON! \")\n"
   ]
  },
  {
   "cell_type": "code",
   "execution_count": 41,
   "metadata": {},
   "outputs": [],
   "source": [
    "systemInput = random.choice(options)"
   ]
  },
  {
   "cell_type": "code",
   "execution_count": 42,
   "metadata": {},
   "outputs": [
    {
     "data": {
      "text/plain": [
       "'Rock'"
      ]
     },
     "execution_count": 42,
     "metadata": {},
     "output_type": "execute_result"
    }
   ],
   "source": [
    "systemInput"
   ]
  },
  {
   "cell_type": "code",
   "execution_count": 43,
   "metadata": {},
   "outputs": [
    {
     "name": "stdout",
     "output_type": "stream",
     "text": [
      "It's a tie. Please try again\n"
     ]
    }
   ],
   "source": [
    "compare(userInput,systemInput)"
   ]
  },
  {
   "cell_type": "code",
   "execution_count": 15,
   "metadata": {},
   "outputs": [
    {
     "name": "stdout",
     "output_type": "stream",
     "text": [
      "Please select a choice ('Rock','Paper','Scissors'):rock\n",
      "Your move was 'ROCK'  & computer's move was 'paper'\n",
      " COMPUTER WON! \n",
      "You want to try again(Yes/No): no\n"
     ]
    }
   ],
   "source": [
    "while True :\n",
    "    # User Input\n",
    "    userInput = input(\"Please select a choice ('Rock','Paper','Scissors'):\" ).lower()\n",
    "    # System Input\n",
    "    systemInput = random.choice(options).lower()\n",
    "    compare(userInput,systemInput)\n",
    "    flag1 = input('You want to try again(Yes/No): ').lower()\n",
    "    if flag1 == 'yes':\n",
    "        continue\n",
    "    else:\n",
    "        break\n",
    "        \n",
    "    "
   ]
  },
  {
   "cell_type": "code",
   "execution_count": null,
   "metadata": {},
   "outputs": [],
   "source": []
  }
 ],
 "metadata": {
  "kernelspec": {
   "display_name": "Python 3",
   "language": "python",
   "name": "python3"
  },
  "language_info": {
   "codemirror_mode": {
    "name": "ipython",
    "version": 3
   },
   "file_extension": ".py",
   "mimetype": "text/x-python",
   "name": "python",
   "nbconvert_exporter": "python",
   "pygments_lexer": "ipython3",
   "version": "3.8.5"
  }
 },
 "nbformat": 4,
 "nbformat_minor": 4
}
